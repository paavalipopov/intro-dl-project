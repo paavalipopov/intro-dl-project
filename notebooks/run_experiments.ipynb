{
 "cells": [
  {
   "cell_type": "markdown",
   "metadata": {},
   "source": [
    "# Requirements"
   ]
  },
  {
   "cell_type": "code",
   "execution_count": 10,
   "metadata": {},
   "outputs": [],
   "source": [
    "import sys\n",
    "import os\n",
    "sys.path.append(\"../\") # go to parent dir"
   ]
  },
  {
   "cell_type": "markdown",
   "metadata": {},
   "source": [
    "# Run experiments"
   ]
  },
  {
   "cell_type": "code",
   "execution_count": null,
   "metadata": {},
   "outputs": [],
   "source": [
    "models = [\n",
    "    \"mlp\",\n",
    "    \"attention_mlp\",\n",
    "    \"new_attention_mlp\",\n",
    "    \"lstm\",\n",
    "    \"another_lstm\",\n",
    "    \"transformer\",\n",
    "]\n",
    "\n",
    "datasets = [\"oasis\", \"abide\", \"fbirn\", \"cobre\", \"abide_869\"]\n",
    "\n",
    "for model in models:\n",
    "    for dataset in datasets:\n",
    "        os.system(f\"PYTHONPATH=/Users/pavelpopov/mlp_project/ python /Users/pavelpopov/mlp_project/src/scripts/tune_ts_dl.py --mode tune --model {model} --ds {dataset} --max-epochs 300 --num-trials 10\")\n",
    "        os.system(f\"PYTHONPATH=/Users/pavelpopov/mlp_project/ python /Users/pavelpopov/mlp_project/src/scripts/tune_ts_dl.py --mode experiment --model {model} --ds {dataset} --max-epochs 300 --num-trials 10\")\n"
   ]
  },
  {
   "cell_type": "code",
   "execution_count": null,
   "metadata": {},
   "outputs": [],
   "source": [
    "os.system(\"pwd\")\n",
    "os.environ['PATH'] += os.pathsep + '..'\n",
    "os.system(\"pwd\")\n",
    "os.system(\"cd ..\")\n",
    "os.system(\"pwd\")"
   ]
  }
 ],
 "metadata": {
  "interpreter": {
   "hash": "1b99d877adb0b7ab3fa56a43902a76f28d27732ee5cf08679707ced7dcdfd859"
  },
  "kernelspec": {
   "display_name": "Python 3.7.12 64-bit ('3.7.12')",
   "language": "python",
   "name": "python3"
  },
  "language_info": {
   "codemirror_mode": {
    "name": "ipython",
    "version": 3
   },
   "file_extension": ".py",
   "mimetype": "text/x-python",
   "name": "python",
   "nbconvert_exporter": "python",
   "pygments_lexer": "ipython3",
   "version": "3.7.12"
  },
  "orig_nbformat": 4
 },
 "nbformat": 4,
 "nbformat_minor": 2
}
